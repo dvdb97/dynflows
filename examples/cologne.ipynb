{
 "cells": [
  {
   "cell_type": "code",
   "execution_count": 13,
   "metadata": {},
   "outputs": [],
   "source": [
    "import networkx as nx\n",
    "import numpy as np\n",
    "\n",
    "from tqdm import tqdm\n",
    "from itertools import permutations\n",
    "\n",
    "from dynflows.flows.dynamic import max_flow_over_time, dynamic_transshipment, quickest_transshipment"
   ]
  },
  {
   "cell_type": "code",
   "execution_count": 14,
   "metadata": {},
   "outputs": [],
   "source": [
    "G = nx.DiGraph()\n",
    "\n",
    "# Add all vertices from the graph using strings as names for improved readability.\n",
    "G.add_nodes_from([\n",
    "    ('HANSA', {'balance': 500}), \n",
    "    ('WEST', {'balance': 700}), \n",
    "    'BRIDGE_1_START', \n",
    "    ('CENTRAL', {'balance': 2000}), \n",
    "    'BRIDGE_2_START', \n",
    "    ('SOUTH', {'balance': 800}), \n",
    "    ('SEVERIN', {'balance': 200}), \n",
    "    'BRIDGE_3_START', \n",
    "    'BRIDGE_3_END', \n",
    "    'BRIDGE_2_END', \n",
    "    'BRIDGE_1_END', \n",
    "    ('STAGE 1', {'balance': -2000}), \n",
    "    ('STAGE 2', {'balance': -1000}),\n",
    "    ('STAGE 3', {'balance': -2000}),\n",
    "    ('DEUTZ', {'balance': 800})\n",
    "])\n",
    "\n",
    "# Add arcs with capacity of 100 and transit time of 1\n",
    "G.add_edges_from([\n",
    "    ('WEST', 'HANSA'), \n",
    "    ('HANSA', 'CENTRAL'), \n",
    "    ('WEST', 'CENTRAL'), \n",
    "    ('CENTRAL', 'BRIDGE_1_START'), \n",
    "    ('WEST', 'SOUTH'), \n",
    "    ('SOUTH', 'CENTRAL'), \n",
    "    ('SOUTH', 'SEVERIN'),\n",
    "    ('SEVERIN', 'BRIDGE_3_START'), \n",
    "    ('BRIDGE_2_START', 'BRIDGE_3_START'),\n",
    "    ('BRIDGE_3_START', 'BRIDGE_2_START'), \n",
    "    ('BRIDGE_1_START', 'BRIDGE_2_START'),\n",
    "    ('BRIDGE_2_START', 'BRIDGE_1_START'), \n",
    "    ('BRIDGE_1_START', 'BRIDGE_1_END'), \n",
    "    ('BRIDGE_2_START', 'BRIDGE_2_END'), \n",
    "    ('BRIDGE_3_START', 'BRIDGE_3_END'), \n",
    "    ('BRIDGE_1_END', 'BRIDGE_2_END'),\n",
    "    ('BRIDGE_2_END', 'BRIDGE_1_END'),\n",
    "    ('BRIDGE_2_END', 'BRIDGE_3_END'),\n",
    "    ('BRIDGE_3_END', 'BRIDGE_2_END'),\n",
    "    ('BRIDGE_1_END', 'STAGE 1'), \n",
    "    ('BRIDGE_2_END', 'STAGE 3'), \n",
    "    ('BRIDGE_3_END', 'STAGE 2'), \n",
    "    ('SEVERIN', 'BRIDGE_2_START'), \n",
    "    ('DEUTZ', 'BRIDGE_2_END')\n",
    "], capacity=100, transit=1)\n",
    "\n",
    "terminals = ['HANSA', 'WEST', 'CENTRAL', 'SOUTH', 'SEVERIN', 'STAGE 1', 'STAGE 2', 'STAGE 3', 'DEUTZ']\n",
    "sources = ['HANSA', 'WEST', 'CENTRAL', 'SOUTH', 'SEVERIN', 'DEUTZ']\n",
    "sinks = ['STAGE 1', 'STAGE 2', 'STAGE 3']"
   ]
  },
  {
   "cell_type": "code",
   "execution_count": 15,
   "metadata": {},
   "outputs": [
    {
     "data": {
      "text/plain": [
       "(29500, <dynflows.flows.dynamic.flow.TemporallyRepeatedFlow at 0x1ea482f3f20>)"
      ]
     },
     "execution_count": 15,
     "metadata": {},
     "output_type": "execute_result"
    }
   ],
   "source": [
    "T = 100\n",
    "\n",
    "value = max_flow_over_time(G, sources, sinks, T)\n",
    "value"
   ]
  },
  {
   "cell_type": "code",
   "execution_count": 18,
   "metadata": {},
   "outputs": [
    {
     "name": "stderr",
     "output_type": "stream",
     "text": [
      "100%|██████████| 9/9 [00:01<00:00,  5.13it/s]\n"
     ]
    },
    {
     "ename": "StopIteration",
     "evalue": "",
     "output_type": "error",
     "traceback": [
      "\u001b[1;31m---------------------------------------------------------------------------\u001b[0m",
      "\u001b[1;31mStopIteration\u001b[0m                             Traceback (most recent call last)",
      "Cell \u001b[1;32mIn[18], line 1\u001b[0m\n\u001b[1;32m----> 1\u001b[0m flow \u001b[38;5;241m=\u001b[39m \u001b[43mdynamic_transshipment\u001b[49m\u001b[43m(\u001b[49m\u001b[43mG\u001b[49m\u001b[43m,\u001b[49m\u001b[43m \u001b[49m\u001b[43mT\u001b[49m\u001b[43m)\u001b[49m\n\u001b[0;32m      2\u001b[0m flow\u001b[38;5;241m.\u001b[39mget_excess(terminals, T)\n",
      "File \u001b[1;32mc:\\Users\\Dario\\AppData\\Local\\Programs\\Python\\Python312\\Lib\\site-packages\\dynflows\\flows\\dynamic\\transshipments.py:739\u001b[0m, in \u001b[0;36mdynamic_transshipment\u001b[1;34m(G, T, balance, capacity, transit, method)\u001b[0m\n\u001b[0;32m    736\u001b[0m     \u001b[38;5;28;01massert\u001b[39;00m __is_tight(G_ext, A, T, balance, capacity, transit), \u001b[38;5;124m\"\u001b[39m\u001b[38;5;124mNot all sets in the chain are tight!\u001b[39m\u001b[38;5;124m\"\u001b[39m\n\u001b[0;32m    738\u001b[0m \u001b[38;5;66;03m# Compute the permutation arising from the chain.\u001b[39;00m\n\u001b[1;32m--> 739\u001b[0m perm \u001b[38;5;241m=\u001b[39m [\u001b[38;5;28;43mnext\u001b[39;49m\u001b[43m(\u001b[49m\u001b[38;5;28;43miter\u001b[39;49m\u001b[43m(\u001b[49m\u001b[43mchain\u001b[49m\u001b[43m[\u001b[49m\u001b[43mi\u001b[49m\u001b[38;5;241;43m+\u001b[39;49m\u001b[38;5;241;43m1\u001b[39;49m\u001b[43m]\u001b[49m\u001b[43m \u001b[49m\u001b[38;5;241;43m-\u001b[39;49m\u001b[43m \u001b[49m\u001b[43mchain\u001b[49m\u001b[43m[\u001b[49m\u001b[43mi\u001b[49m\u001b[43m]\u001b[49m\u001b[43m)\u001b[49m\u001b[43m)\u001b[49m \u001b[38;5;28;01mfor\u001b[39;00m i \u001b[38;5;129;01min\u001b[39;00m \u001b[38;5;28mrange\u001b[39m(\u001b[38;5;28mlen\u001b[39m(chain)\u001b[38;5;241m-\u001b[39m\u001b[38;5;241m1\u001b[39m)]\n\u001b[0;32m    740\u001b[0m \u001b[38;5;28;01massert\u001b[39;00m \u001b[38;5;28mlen\u001b[39m(perm) \u001b[38;5;241m==\u001b[39m \u001b[38;5;28mlen\u001b[39m(chain)\u001b[38;5;241m-\u001b[39m\u001b[38;5;241m1\u001b[39m \u001b[38;5;129;01mand\u001b[39;00m \u001b[38;5;28mlen\u001b[39m(perm) \u001b[38;5;241m==\u001b[39m \u001b[38;5;28mlen\u001b[39m(terminals_), \u001b[38;5;124m\"\u001b[39m\u001b[38;5;124mSome element is missing.\u001b[39m\u001b[38;5;124m\"\u001b[39m\n\u001b[0;32m    742\u001b[0m \u001b[38;5;66;03m# Compute a lexiciograpically maximum flow over time which will result in a solution of the given transshipment instance.\u001b[39;00m\n",
      "\u001b[1;31mStopIteration\u001b[0m: "
     ]
    }
   ],
   "source": [
    "flow = dynamic_transshipment(G, T)\n",
    "flow.get_excess(terminals, T)"
   ]
  },
  {
   "cell_type": "code",
   "execution_count": null,
   "metadata": {},
   "outputs": [],
   "source": []
  }
 ],
 "metadata": {
  "kernelspec": {
   "display_name": "Python 3",
   "language": "python",
   "name": "python3"
  },
  "language_info": {
   "codemirror_mode": {
    "name": "ipython",
    "version": 3
   },
   "file_extension": ".py",
   "mimetype": "text/x-python",
   "name": "python",
   "nbconvert_exporter": "python",
   "pygments_lexer": "ipython3",
   "version": "3.12.1"
  }
 },
 "nbformat": 4,
 "nbformat_minor": 2
}
